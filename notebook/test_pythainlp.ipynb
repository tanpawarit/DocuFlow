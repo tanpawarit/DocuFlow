{
 "cells": [
  {
   "cell_type": "markdown",
   "id": "ae3143cb",
   "metadata": {},
   "source": [
    "* *pn* - Peter Norvig's algorithm [#norvig_spellchecker]_ (default)\n",
    "* *phunspell* - A spell checker utilizing spylls, a port of Hunspell.\n",
    "* *symspellpy* - symspellpy is a Python port of SymSpell v6.5.\n",
    "* *wanchanberta_thai_grammarly* - WanchanBERTa Thai Grammarly"
   ]
  },
  {
   "cell_type": "code",
   "execution_count": 16,
   "id": "e262fa02",
   "metadata": {},
   "outputs": [
    {
     "name": "stdout",
     "output_type": "stream",
     "text": [
      "--- แก้ไขคำผิดด้วย Engine: phunspell ---\n"
     ]
    },
    {
     "ename": "IndexError",
     "evalue": "list index out of range",
     "output_type": "error",
     "traceback": [
      "\u001b[31m---------------------------------------------------------------------------\u001b[39m",
      "\u001b[31mIndexError\u001b[39m                                Traceback (most recent call last)",
      "\u001b[36mCell\u001b[39m\u001b[36m \u001b[39m\u001b[32mIn[16]\u001b[39m\u001b[32m, line 19\u001b[39m\n\u001b[32m     10\u001b[39m incorrect_words = [\n\u001b[32m     11\u001b[39m     \u001b[33m\"\u001b[39m\u001b[33mบริการที่ปรึกษาคำแถวรดลาดศิริทัล\u001b[39m\u001b[33m\"\u001b[39m,\n\u001b[32m     12\u001b[39m     \u001b[33m\"\u001b[39m\u001b[33mคาบำรุงรักษาระบบรายปี\u001b[39m\u001b[33m\"\u001b[39m,\n\u001b[32m   (...)\u001b[39m\u001b[32m     15\u001b[39m     \u001b[33m\"\u001b[39m\u001b[33mเรียนโขการข้าระเงิน: ข้าระพันทิเมื่อโต่วันเอกสาร ข้อมูลการโอนเงิน\u001b[39m\u001b[33m\"\u001b[39m, \n\u001b[32m     16\u001b[39m ]\n\u001b[32m     18\u001b[39m \u001b[38;5;28;01mfor\u001b[39;00m word \u001b[38;5;129;01min\u001b[39;00m incorrect_words:\n\u001b[32m---> \u001b[39m\u001b[32m19\u001b[39m     corrected_word = \u001b[43mcorrect\u001b[49m\u001b[43m(\u001b[49m\u001b[43mword\u001b[49m\u001b[43m,\u001b[49m\u001b[43m \u001b[49m\u001b[43mengine\u001b[49m\u001b[43m=\u001b[49m\u001b[43mENGINE\u001b[49m\u001b[43m)\u001b[49m\n\u001b[32m     20\u001b[39m     \u001b[38;5;28mprint\u001b[39m(\u001b[33mf\u001b[39m\u001b[33m\"\u001b[39m\u001b[33mคำผิด: \u001b[39m\u001b[33m'\u001b[39m\u001b[38;5;132;01m{\u001b[39;00mword\u001b[38;5;132;01m}\u001b[39;00m\u001b[33m'\u001b[39m\u001b[33m -> แก้เป็น: \u001b[39m\u001b[33m'\u001b[39m\u001b[38;5;132;01m{\u001b[39;00mcorrected_word\u001b[38;5;132;01m}\u001b[39;00m\u001b[33m'\u001b[39m\u001b[33m\"\u001b[39m)\n",
      "\u001b[36mFile \u001b[39m\u001b[32m~/dev/DocuFlow/.venv/lib/python3.12/site-packages/pythainlp/spell/core.py:117\u001b[39m, in \u001b[36mcorrect\u001b[39m\u001b[34m(word, engine)\u001b[39m\n\u001b[32m    114\u001b[39m \u001b[38;5;28;01mif\u001b[39;00m engine == \u001b[33m\"\u001b[39m\u001b[33mphunspell\u001b[39m\u001b[33m\"\u001b[39m:\n\u001b[32m    115\u001b[39m     \u001b[38;5;28;01mfrom\u001b[39;00m\u001b[38;5;250m \u001b[39m\u001b[34;01mpythainlp\u001b[39;00m\u001b[34;01m.\u001b[39;00m\u001b[34;01mspell\u001b[39;00m\u001b[34;01m.\u001b[39;00m\u001b[34;01mphunspell\u001b[39;00m\u001b[38;5;250m \u001b[39m\u001b[38;5;28;01mimport\u001b[39;00m correct \u001b[38;5;28;01mas\u001b[39;00m SPELL_CHECKER\n\u001b[32m--> \u001b[39m\u001b[32m117\u001b[39m     text_correct = \u001b[43mSPELL_CHECKER\u001b[49m\u001b[43m(\u001b[49m\u001b[43mword\u001b[49m\u001b[43m)\u001b[49m\n\u001b[32m    118\u001b[39m \u001b[38;5;28;01melif\u001b[39;00m engine == \u001b[33m\"\u001b[39m\u001b[33msymspellpy\u001b[39m\u001b[33m\"\u001b[39m:\n\u001b[32m    119\u001b[39m     \u001b[38;5;28;01mfrom\u001b[39;00m\u001b[38;5;250m \u001b[39m\u001b[34;01mpythainlp\u001b[39;00m\u001b[34;01m.\u001b[39;00m\u001b[34;01mspell\u001b[39;00m\u001b[34;01m.\u001b[39;00m\u001b[34;01msymspellpy\u001b[39;00m\u001b[38;5;250m \u001b[39m\u001b[38;5;28;01mimport\u001b[39;00m correct \u001b[38;5;28;01mas\u001b[39;00m SPELL_CHECKER\n",
      "\u001b[36mFile \u001b[39m\u001b[32m~/dev/DocuFlow/.venv/lib/python3.12/site-packages/pythainlp/spell/phunspell.py:26\u001b[39m, in \u001b[36mcorrect\u001b[39m\u001b[34m(text)\u001b[39m\n\u001b[32m     25\u001b[39m \u001b[38;5;28;01mdef\u001b[39;00m\u001b[38;5;250m \u001b[39m\u001b[34mcorrect\u001b[39m(text: \u001b[38;5;28mstr\u001b[39m) -> \u001b[38;5;28mstr\u001b[39m:\n\u001b[32m---> \u001b[39m\u001b[32m26\u001b[39m     \u001b[38;5;28;01mreturn\u001b[39;00m \u001b[38;5;28;43mlist\u001b[39;49m\u001b[43m(\u001b[49m\u001b[43mpspell\u001b[49m\u001b[43m.\u001b[49m\u001b[43msuggest\u001b[49m\u001b[43m(\u001b[49m\u001b[43mtext\u001b[49m\u001b[43m)\u001b[49m\u001b[43m)\u001b[49m\u001b[43m[\u001b[49m\u001b[32;43m0\u001b[39;49m\u001b[43m]\u001b[49m\n",
      "\u001b[31mIndexError\u001b[39m: list index out of range"
     ]
    }
   ],
   "source": [
    "# -*- coding: utf-8 -*-\n",
    "from pythainlp.spell import correct\n",
    "from pythainlp.tokenize import word_tokenize\n",
    "\n",
    "# ระบุ engine ที่จะใช้เพื่อความแม่นยำ\n",
    "ENGINE = 'phunspell'\n",
    "\n",
    "print(f\"--- แก้ไขคำผิดด้วย Engine: {ENGINE} ---\")\n",
    "\n",
    "incorrect_words = [\n",
    "    \"บริการที่ปรึกษาคำแถวรดลาดศิริทัล\",\n",
    "    \"คาบำรุงรักษาระบบรายปี\",\n",
    "    \"คาเขา Cloud Server - Business Package\",\n",
    "    \"พัฒนาและออกแบบเว็บไซต์ (E-commerce)\",\n",
    "    \"เรียนโขการข้าระเงิน: ข้าระพันทิเมื่อโต่วันเอกสาร ข้อมูลการโอนเงิน\", \n",
    "]\n",
    "\n",
    "for word in incorrect_words:\n",
    "    corrected_word = correct(word, engine=ENGINE)\n",
    "    print(f\"คำผิด: '{word}' -> แก้เป็น: '{corrected_word}'\")"
   ]
  },
  {
   "cell_type": "code",
   "execution_count": 17,
   "id": "5260b080",
   "metadata": {},
   "outputs": [
    {
     "ename": "ModuleNotFoundError",
     "evalue": "No module named 'pythainlp.ner'",
     "output_type": "error",
     "traceback": [
      "\u001b[31m---------------------------------------------------------------------------\u001b[39m",
      "\u001b[31mModuleNotFoundError\u001b[39m                       Traceback (most recent call last)",
      "\u001b[36mCell\u001b[39m\u001b[36m \u001b[39m\u001b[32mIn[17]\u001b[39m\u001b[32m, line 2\u001b[39m\n\u001b[32m      1\u001b[39m \u001b[38;5;28;01mimport\u001b[39;00m\u001b[38;5;250m \u001b[39m\u001b[34;01mre\u001b[39;00m\n\u001b[32m----> \u001b[39m\u001b[32m2\u001b[39m \u001b[38;5;28;01mfrom\u001b[39;00m\u001b[38;5;250m \u001b[39m\u001b[34;01mpythainlp\u001b[39;00m\u001b[34;01m.\u001b[39;00m\u001b[34;01mner\u001b[39;00m\u001b[38;5;250m \u001b[39m\u001b[38;5;28;01mimport\u001b[39;00m NER\n\u001b[32m      4\u001b[39m \u001b[38;5;66;03m# The text from the invoice\u001b[39;00m\n\u001b[32m      5\u001b[39m text = \u001b[33m\"\"\"\u001b[39m\n\u001b[32m      6\u001b[39m \u001b[33m# บริษัท โกลบอล โลจิสติกส์ โซลูชั่นส์\u001b[39m\n\u001b[32m      7\u001b[39m \n\u001b[32m   (...)\u001b[39m\u001b[32m     26\u001b[39m \u001b[33mผู้รับเงิน / ผู้ลงของ\u001b[39m\n\u001b[32m     27\u001b[39m \u001b[33m\"\"\"\u001b[39m\n",
      "\u001b[31mModuleNotFoundError\u001b[39m: No module named 'pythainlp.ner'"
     ]
    }
   ],
   "source": [
    "import re\n",
    "from pythainlp.ner import NER\n",
    "\n",
    "# The text from the invoice\n",
    "text = \"\"\"\n",
    "# บริษัท โกลบอล โลจิสติกส์ โซลูชั่นส์\n",
    "\n",
    "999/9 อาคารคี ออฟฟิศเคส แอท เซ็นทรัลเวิลด์ ชั้น 40 ถ.พระราม 1 แขวงปทุมวัน เขตปทุมวัน กรุงเทพฯ 10330 โทร: 02-123-4567 เลขประจำตัวผู้เสียภาษี: 0879189666478\n",
    "\n",
    "ลูกค้า: หจก. สยามการพิมพ์ ที่อยู่: 101 อาคารทรู ศิริทัล พารค ชั้น 7 ถ.สุขุมวิท แขวงบางจาก เขตพระพุทธ กรุงเทพฯ 103984/2025\n",
    "\n",
    "เรียน: คุณสุนีย์ โทร: 02-123-4567 เลขประจำตัวผู้เสียภาษี: 0560437188559\n",
    "\n",
    "|  ลำดับ รายการ | จำนวน | ราคา/หน่วย | จำนวนเงิน  |\n",
    "| --- | --- | --- | --- |\n",
    "|  1 บริการที่ปรึกษาคำแถวรดลาดศิริทัล (เดือน มี.ย.) | 1 | 30,000.00 | 30,000.00  |\n",
    "|  2 คาบำรุงรักษาระบบรายปี | 1 | 20,000.00 | 20,000.00  |\n",
    "|  3 คาเขา Cloud Server - Business Package | 3 | 2,500.00 | 7,500.00  |\n",
    "|  4 พัฒนาและออกแบบเว็บไซต์ (E-commerce) | 1 | 75,000.00 | 75,000.00  |\n",
    "|  เรียนโขการข้าระเงิน: ข้าระพันทิเมื่อโต่วันเอกสาร ข้อมูลการโอนเงิน: ธ.กติกริไทย บัญชีออมทรัพย์ 012-3-45678-9 | ยอดรวม (Subtotal) | 132,500.00 |   |\n",
    "|   | ภาษีมูลค่าเพิ่ม (VAT 7%) | 9,275.00 |   |\n",
    "|   | ยอดข้าระทั้งสิ้น | 141,775.00 |   |\n",
    "\n",
    "ผู้อนุมัติ\n",
    "\n",
    "ผู้รับเงิน / ผู้ลงของ\n",
    "\"\"\"\n",
    "\n",
    "print(\"---  extracting key information using regular expressions ---\")\n",
    "\n",
    "# --- Function to extract specific patterns ---\n",
    "def find_pattern(pattern, text):\n",
    "    match = re.search(pattern, text)\n",
    "    return match.group(1).strip() if match else \"Not Found\"\n",
    "\n",
    "# --- Define regex patterns ---\n",
    "supplier_name_pattern = r\"#\\s*(บริษัท.*?โซลูชั่นส์)\"\n",
    "supplier_tax_id_pattern = r\"เลขประจำตัวผู้เสียภาษี:\\s*(\\d+)\"\n",
    "customer_name_pattern = r\"ลูกค้า:\\s*(หจก\\.\\s*.*?การพิมพ์)\"\n",
    "customer_attn_pattern = r\"เรียน:\\s*(คุณ\\w+)\"\n",
    "customer_tax_id_pattern = r\"ผู้เสียภาษี:\\s*(\\d+)\"\n",
    "subtotal_pattern = r\"ยอดรวม\\s*\\(Subtotal\\)\\s*\\|\\s*([\\d,]+\\.\\d{2})\"\n",
    "vat_pattern = r\"ภาษีมูลค่าเพิ่ม\\s*\\(VAT 7%\\)\\s*\\|\\s*([\\d,]+\\.\\d{2})\"\n",
    "total_pattern = r\"ยอดข้าระทั้งสิ้น\\s*\\|\\s*([\\d,]+\\.\\d{2})\"\n",
    "\n",
    "# --- Extract and print information ---\n",
    "print(f\"Supplier Name: {find_pattern(supplier_name_pattern, text)}\")\n",
    "print(f\"Supplier Tax ID: {find_pattern(supplier_tax_id_pattern, text)}\")\n",
    "print(f\"Customer Name: {find_pattern(customer_name_pattern, text)}\")\n",
    "print(f\"Attention To: {find_pattern(customer_attn_pattern, text)}\")\n",
    "print(f\"Customer Tax ID: {find_pattern(customer_tax_id_pattern, text)}\")\n",
    "print(\"-\" * 20)\n",
    "print(f\"Subtotal: {find_pattern(subtotal_pattern, text)}\")\n",
    "print(f\"VAT (7%): {find_pattern(vat_pattern, text)}\")\n",
    "print(f\"Total: {find_pattern(total_pattern, text)}\")\n",
    "\n",
    "\n",
    "print(\"\\n--- extracting entities using pythainlp NER ---\")\n",
    "\n",
    "# --- Use pythainlp for Named Entity Recognition ---\n",
    "# The 'thainer' model is effective for general-purpose entity recognition.\n",
    "ner = NER(engine=\"thainer\")\n",
    "entities = ner.tag(text, pos=False)\n",
    "\n",
    "# --- Filter and display relevant entities ---\n",
    "# We look for organizations, persons, and locations.\n",
    "relevant_entities = {\n",
    "    \"ORGANIZATION\": set(),\n",
    "    \"PERSON\": set(),\n",
    "    \"LOCATION\": set(),\n",
    "}\n",
    "\n",
    "for word, tag in entities:\n",
    "    if \"B-\" in tag:  # B- indicates the beginning of an entity\n",
    "        entity_type = tag.replace(\"B-\", \"\")\n",
    "        if entity_type in relevant_entities:\n",
    "            relevant_entities[entity_type].add(word)\n",
    "\n",
    "for entity_type, items in relevant_entities.items():\n",
    "    print(f\"{entity_type}: {', '.join(items)}\")"
   ]
  },
  {
   "cell_type": "code",
   "execution_count": null,
   "id": "00a3ef6c",
   "metadata": {},
   "outputs": [],
   "source": [
    "\n"
   ]
  }
 ],
 "metadata": {
  "kernelspec": {
   "display_name": ".venv",
   "language": "python",
   "name": "python3"
  },
  "language_info": {
   "codemirror_mode": {
    "name": "ipython",
    "version": 3
   },
   "file_extension": ".py",
   "mimetype": "text/x-python",
   "name": "python",
   "nbconvert_exporter": "python",
   "pygments_lexer": "ipython3",
   "version": "3.12.4"
  }
 },
 "nbformat": 4,
 "nbformat_minor": 5
}
