{
 "cells": [
  {
   "cell_type": "code",
   "execution_count": 1,
   "id": "5885aa49",
   "metadata": {},
   "outputs": [],
   "source": [
    "\n",
    "import base64\n",
    "import os\n",
    "from mistralai import Mistral\n",
    "from src.utils.config import get_config_value\n",
    "\n",
    "mistral_token = get_config_value(\"mistral\")\n",
    "api_key = mistral_token.get(\"token\") \n",
    "\n",
    "def encode_image(image_path):\n",
    "    \"\"\"Encode the image to base64.\"\"\"\n",
    "    try:\n",
    "        with open(image_path, \"rb\") as image_file:\n",
    "            return base64.b64encode(image_file.read()).decode('utf-8')\n",
    "    except FileNotFoundError:\n",
    "        print(f\"Error: The file {image_path} was not found.\")\n",
    "        return None\n",
    "    except Exception as e:  # Added general exception handling\n",
    "        print(f\"Error: {e}\")\n",
    "        return None\n",
    "\n",
    "def main(): \n",
    "    client = Mistral(api_key=api_key)\n",
    "    ocr_response = client.ocr.process(\n",
    "        model=\"mistral-ocr-latest\",\n",
    "        document={\n",
    "            \"type\": \"image_url\",\n",
    "            \"image_url\": f\"data:image/jpeg;base64,{encode_image(\"/Users/pawarison/dev/DocuFlow/data/synthetic_data/credit_notes/credit_note_1.png\")}\" \n",
    "        },\n",
    "        include_image_base64=True\n",
    "    )\n",
    "    return ocr_response\n",
    "    # with open(\"test.md\", \"w\") as f:\n",
    "    #     f.write(ocr_response.pages[0].markdown)\n",
    "\n",
    "if __name__ == \"__main__\":\n",
    "    ocr_response = main()"
   ]
  },
  {
   "cell_type": "code",
   "execution_count": 27,
   "id": "9d653879",
   "metadata": {},
   "outputs": [
    {
     "data": {
      "text/markdown": [
       "# บริษัท โกลบอล โลจิสติกส์ โซลูชั่นส์\n",
       "\n",
       "999/9 อาคารคี ออฟฟิศเคส แอท เซ็นทรัลเวิลด์ ชั้น 40 ถ.พระราม 1 แขวงปทุมวัน เขตปทุมวัน กรุงเทพฯ 10330 โทร: 02-123-4567 เลขประจำตัวผู้เสียภาษี: 0879189666478\n",
       "\n",
       "ลูกค้า: หจก. สยามการพิมพ์ ที่อยู่: 101 อาคารทรู ศิริทัล พารค ชั้น 7 ถ.สุขุมวิท แขวงบางจาก เขตพระพุทธ กรุงเทพฯ 103984/2025\n",
       "\n",
       "เรียน: คุณสุนีย์ โทร: 02-123-4567 เลขประจำตัวผู้เสียภาษี: 0560437188559\n",
       "\n",
       "|  ลำดับ รายการ | จำนวน | ราคา/หน่วย | จำนวนเงิน  |\n",
       "| --- | --- | --- | --- |\n",
       "|  1 บริการที่ปรึกษาคำแถวรดลาดศิริทัล (เดือน มี.ย.) | 1 | 30,000.00 | 30,000.00  |\n",
       "|  2 คาบำรุงรักษาระบบรายปี | 1 | 20,000.00 | 20,000.00  |\n",
       "|  3 คาเขา Cloud Server - Business Package | 3 | 2,500.00 | 7,500.00  |\n",
       "|  4 พัฒนาและออกแบบเว็บไซต์ (E-commerce) | 1 | 75,000.00 | 75,000.00  |\n",
       "|  เรียนโขการข้าระเงิน: ข้าระพันทิเมื่อโต่วันเอกสาร ข้อมูลการโอนเงิน: ธ.กติกริไทย บัญชีออมทรัพย์ 012-3-45678-9 | ยอดรวม (Subtotal) | 132,500.00 |   |\n",
       "|   | ภาษีมูลค่าเพิ่ม (VAT 7%) | 9,275.00 |   |\n",
       "|   | ยอดข้าระทั้งสิ้น | 141,775.00 |   |\n",
       "\n",
       "ผู้อนุมัติ\n",
       "\n",
       "ผู้รับเงิน / ผู้ลงของ"
      ],
      "text/plain": [
       "<IPython.core.display.Markdown object>"
      ]
     },
     "metadata": {},
     "output_type": "display_data"
    }
   ],
   "source": [
    "from IPython.display import Markdown, display\n",
    "\n",
    "display(Markdown(ocr_response.pages[0].markdown))"
   ]
  },
  {
   "cell_type": "code",
   "execution_count": null,
   "id": "529f77f1",
   "metadata": {},
   "outputs": [],
   "source": []
  },
  {
   "cell_type": "code",
   "execution_count": 39,
   "id": "d1ac1054",
   "metadata": {},
   "outputs": [],
   "source": [
    "from openai import OpenAI\n",
    "\n",
    "system_prompt = (\n",
    "    \"คุณคือผู้เชี่ยวชาญด้านภาษาไทยและเอกสารธุรกิจ \"\n",
    "    \"กรุณาตรวจสอบและแก้ไขข้อความด้านล่างนี้ให้ถูกต้องสมบูรณ์ โดย \"\n",
    "    \"แก้ไขคำผิด คำตกหล่น หรือข้อความที่อ่านไม่เข้าใจ \"\n",
    "    \"แก้ไขคำเฉพาะให้ถูกต้อง เช่น ชื่อบริษัท ชื่อถนน ชื่อแขวง/เขต ชื่อจังหวัด รหัสไปรษณีย์ และข้อมูลที่อยู่ \"\n",
    "    \"ให้เป็นมาตรฐานตามข้อมูลจริงในประเทศไทย \"\n",
    "    \"หากพบชื่อจังหวัด ชื่อถนน หรือเขต/แขวง ที่สะกดผิดหรือไม่ตรงกับความเป็นจริง ให้แก้ไขให้ถูกต้อง \"\n",
    "    \"แก้ไขชื่อธนาคารหรือข้อมูลอื่น ๆ ที่เป็นคำเฉพาะให้ถูกต้อง \"\n",
    "    \"แก้ไขเฉพาะข้อความ ไม่ต้องอธิบายการแก้ไข \"\n",
    "    \"โปรดแสดงผลลัพธ์เป็นข้อความที่แก้ไขแล้วเท่านั้น\"\n",
    ")\n",
    "\n",
    "client = OpenAI(\n",
    "    base_url=\"https://openrouter.ai/api/v1\",\n",
    "    api_key=api_key,\n",
    ")\n",
    "\n",
    "completion = client.chat.completions.create(\n",
    "    model=\"google/gemma-3n-e2b-it:free\",\n",
    "    messages=[\n",
    "        {\n",
    "            \"role\": \"user\",\n",
    "            \"content\": system_prompt + f\"\\n\\n{ocr_response.pages[0].markdown}\"\n",
    "        }\n",
    "    ]\n",
    ")"
   ]
  },
  {
   "cell_type": "code",
   "execution_count": null,
   "id": "456a34f3",
   "metadata": {},
   "outputs": [
    {
     "name": "stdout",
     "output_type": "stream",
     "text": [
      "บริษัท โกลบอล โลจิสติกส์ โซลูชั่นส์\n",
      "\n",
      "999/9 อาคารคี ออฟฟิศเคส แอท เซ็นทรัลเวิลด์ ชั้น 40 ถนนพระราม 1 แขวงปทุมวัน เขตปทุมวัน กรุงเทพฯ 10330 โทร: 02-123-4567 เลขประจำตัวผู้เสียภาษี: 0879189666478\n",
      "\n",
      "ลูกค้า: หจก. สยามการพิมพ์ ที่อยู่: 101 อาคารทรู ศิริทัล พารค ชั้น 7 ถนนสุขุมวิท แขวงบางจาก เขตพระพัฒน์ กรุงเทพฯ 103984/2025\n",
      "\n",
      "เรียน: คุณสุนีย์ โทร: 02-123-4567 เลขประจำตัวผู้เสียภาษี: 0560437188559\n",
      "\n",
      "| ลำดับ | รายการ | จำนวน | ราคา/หน่วย | จำนวนเงิน |\n",
      "|---|---|---|---|---|\n",
      "| 1 | บริการที่ปรึกษาคำแนะนำการใช้ระบบ (เดือน มี.ย.) | 1 | 30,000.00 | 30,000.00 |\n",
      "| 2 | ค่าบำรุงรักษาระบบรายปี | 1 | 20,000.00 | 20,000.00 |\n",
      "| 3 | ค่าเช่า Cloud Server - Business Package | 3 | 2,500.00 | 7,500.00 |\n",
      "| 4 | พัฒนาและออกแบบเว็บไซต์ (E-commerce) | 1 | 75,000.00 | 75,000.00 |\n",
      "\n",
      "ยอดรวม (Subtotal) |  |  | 132,500.00 |\n",
      "| ภาษีมูลค่าเพิ่ม (VAT 7%) |  |  | 9,275.00 |\n",
      "| ยอดรวมทั้งหมด |  |  | 141,775.00 |\n",
      "\n",
      "ผู้อนุมัติ\n",
      "\n",
      "ผู้รับเงิน / ผู้ลงนาม\n",
      "\n"
     ]
    }
   ],
   "source": [
    "print(completion.choices[0].message.content)\n"
   ]
  }
 ],
 "metadata": {
  "kernelspec": {
   "display_name": ".venv",
   "language": "python",
   "name": "python3"
  },
  "language_info": {
   "codemirror_mode": {
    "name": "ipython",
    "version": 3
   },
   "file_extension": ".py",
   "mimetype": "text/x-python",
   "name": "python",
   "nbconvert_exporter": "python",
   "pygments_lexer": "ipython3",
   "version": "3.12.4"
  }
 },
 "nbformat": 4,
 "nbformat_minor": 5
}
