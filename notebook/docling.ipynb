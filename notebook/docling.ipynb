{
 "cells": [
  {
   "cell_type": "code",
   "execution_count": 5,
   "id": "c7455cbe",
   "metadata": {},
   "outputs": [
    {
     "name": "stdout",
     "output_type": "stream",
     "text": [
      "Collecting easyocr\n",
      "  Using cached easyocr-1.7.2-py3-none-any.whl.metadata (10 kB)\n",
      "Collecting torch (from easyocr)\n",
      "  Using cached torch-2.7.1-cp312-none-macosx_11_0_arm64.whl.metadata (29 kB)\n",
      "Collecting torchvision>=0.5 (from easyocr)\n",
      "  Using cached torchvision-0.22.1-cp312-cp312-macosx_11_0_arm64.whl.metadata (6.1 kB)\n",
      "Collecting opencv-python-headless (from easyocr)\n",
      "  Using cached opencv_python_headless-4.12.0.88-cp37-abi3-macosx_13_0_arm64.whl.metadata (19 kB)\n",
      "Requirement already satisfied: scipy in /Users/pawarison/.pyenv/versions/3.12.4/lib/python3.12/site-packages (from easyocr) (1.13.1)\n",
      "Requirement already satisfied: numpy in /Users/pawarison/.pyenv/versions/3.12.4/lib/python3.12/site-packages (from easyocr) (1.26.4)\n",
      "Requirement already satisfied: Pillow in /Users/pawarison/.pyenv/versions/3.12.4/lib/python3.12/site-packages (from easyocr) (10.4.0)\n",
      "Collecting scikit-image (from easyocr)\n",
      "  Using cached scikit_image-0.25.2-cp312-cp312-macosx_12_0_arm64.whl.metadata (14 kB)\n",
      "Collecting python-bidi (from easyocr)\n",
      "  Using cached python_bidi-0.6.6-cp312-cp312-macosx_11_0_arm64.whl.metadata (4.9 kB)\n",
      "Requirement already satisfied: PyYAML in /Users/pawarison/.pyenv/versions/3.12.4/lib/python3.12/site-packages (from easyocr) (6.0.2)\n",
      "Requirement already satisfied: Shapely in /Users/pawarison/.pyenv/versions/3.12.4/lib/python3.12/site-packages (from easyocr) (2.1.1)\n",
      "Requirement already satisfied: pyclipper in /Users/pawarison/.pyenv/versions/3.12.4/lib/python3.12/site-packages (from easyocr) (1.3.0.post6)\n",
      "Collecting ninja (from easyocr)\n",
      "  Using cached ninja-1.11.1.4-py3-none-macosx_10_9_universal2.whl.metadata (5.0 kB)\n",
      "Requirement already satisfied: filelock in /Users/pawarison/.pyenv/versions/3.12.4/lib/python3.12/site-packages (from torch->easyocr) (3.18.0)\n",
      "Requirement already satisfied: typing-extensions>=4.10.0 in /Users/pawarison/.pyenv/versions/3.12.4/lib/python3.12/site-packages (from torch->easyocr) (4.14.1)\n",
      "Collecting setuptools (from torch->easyocr)\n",
      "  Using cached setuptools-80.9.0-py3-none-any.whl.metadata (6.6 kB)\n",
      "Collecting sympy>=1.13.3 (from torch->easyocr)\n",
      "  Using cached sympy-1.14.0-py3-none-any.whl.metadata (12 kB)\n",
      "Collecting networkx (from torch->easyocr)\n",
      "  Using cached networkx-3.5-py3-none-any.whl.metadata (6.3 kB)\n",
      "Requirement already satisfied: jinja2 in /Users/pawarison/.pyenv/versions/3.12.4/lib/python3.12/site-packages (from torch->easyocr) (3.1.6)\n",
      "Requirement already satisfied: fsspec in /Users/pawarison/.pyenv/versions/3.12.4/lib/python3.12/site-packages (from torch->easyocr) (2025.5.1)\n",
      "Collecting numpy (from easyocr)\n",
      "  Using cached numpy-2.2.6-cp312-cp312-macosx_14_0_arm64.whl.metadata (62 kB)\n",
      "Collecting imageio!=2.35.0,>=2.33 (from scikit-image->easyocr)\n",
      "  Using cached imageio-2.37.0-py3-none-any.whl.metadata (5.2 kB)\n",
      "Collecting tifffile>=2022.8.12 (from scikit-image->easyocr)\n",
      "  Using cached tifffile-2025.6.11-py3-none-any.whl.metadata (32 kB)\n",
      "Requirement already satisfied: packaging>=21 in /Users/pawarison/.pyenv/versions/3.12.4/lib/python3.12/site-packages (from scikit-image->easyocr) (24.2)\n",
      "Collecting lazy-loader>=0.4 (from scikit-image->easyocr)\n",
      "  Using cached lazy_loader-0.4-py3-none-any.whl.metadata (7.6 kB)\n",
      "Collecting mpmath<1.4,>=1.1.0 (from sympy>=1.13.3->torch->easyocr)\n",
      "  Using cached mpmath-1.3.0-py3-none-any.whl.metadata (8.6 kB)\n",
      "Requirement already satisfied: MarkupSafe>=2.0 in /Users/pawarison/.pyenv/versions/3.12.4/lib/python3.12/site-packages (from jinja2->torch->easyocr) (3.0.2)\n",
      "Using cached easyocr-1.7.2-py3-none-any.whl (2.9 MB)\n",
      "Using cached torchvision-0.22.1-cp312-cp312-macosx_11_0_arm64.whl (1.9 MB)\n",
      "Using cached torch-2.7.1-cp312-none-macosx_11_0_arm64.whl (68.6 MB)\n",
      "Using cached ninja-1.11.1.4-py3-none-macosx_10_9_universal2.whl (279 kB)\n",
      "Using cached opencv_python_headless-4.12.0.88-cp37-abi3-macosx_13_0_arm64.whl (37.9 MB)\n",
      "Using cached numpy-2.2.6-cp312-cp312-macosx_14_0_arm64.whl (5.1 MB)\n",
      "Using cached python_bidi-0.6.6-cp312-cp312-macosx_11_0_arm64.whl (262 kB)\n",
      "Using cached scikit_image-0.25.2-cp312-cp312-macosx_12_0_arm64.whl (13.2 MB)\n",
      "Using cached imageio-2.37.0-py3-none-any.whl (315 kB)\n",
      "Using cached lazy_loader-0.4-py3-none-any.whl (12 kB)\n",
      "Using cached networkx-3.5-py3-none-any.whl (2.0 MB)\n",
      "Using cached sympy-1.14.0-py3-none-any.whl (6.3 MB)\n",
      "Using cached tifffile-2025.6.11-py3-none-any.whl (230 kB)\n",
      "Using cached setuptools-80.9.0-py3-none-any.whl (1.2 MB)\n",
      "Using cached mpmath-1.3.0-py3-none-any.whl (536 kB)\n",
      "Installing collected packages: python-bidi, mpmath, sympy, setuptools, numpy, ninja, networkx, lazy-loader, torch, tifffile, opencv-python-headless, imageio, torchvision, scikit-image, easyocr\n",
      "  Attempting uninstall: numpy\n",
      "    Found existing installation: numpy 1.26.4\n",
      "    Uninstalling numpy-1.26.4:\n",
      "      Successfully uninstalled numpy-1.26.4\n",
      "\u001b[31mERROR: pip's dependency resolver does not currently take into account all the packages that are installed. This behaviour is the source of the following dependency conflicts.\n",
      "vision-agent 1.1.17 requires numpy<2.0.0,>=1.21.0, but you have numpy 2.2.6 which is incompatible.\u001b[0m\u001b[31m\n",
      "\u001b[0mSuccessfully installed easyocr-1.7.2 imageio-2.37.0 lazy-loader-0.4 mpmath-1.3.0 networkx-3.5 ninja-1.11.1.4 numpy-2.2.6 opencv-python-headless-4.12.0.88 python-bidi-0.6.6 scikit-image-0.25.2 setuptools-80.9.0 sympy-1.14.0 tifffile-2025.6.11 torch-2.7.1 torchvision-0.22.1\n",
      "\n",
      "\u001b[1m[\u001b[0m\u001b[34;49mnotice\u001b[0m\u001b[1;39;49m]\u001b[0m\u001b[39;49m A new release of pip is available: \u001b[0m\u001b[31;49m24.0\u001b[0m\u001b[39;49m -> \u001b[0m\u001b[32;49m25.1.1\u001b[0m\n",
      "\u001b[1m[\u001b[0m\u001b[34;49mnotice\u001b[0m\u001b[1;39;49m]\u001b[0m\u001b[39;49m To update, run: \u001b[0m\u001b[32;49mpip install --upgrade pip\u001b[0m\n"
     ]
    }
   ],
   "source": [
    "# !pip install docling\n",
    "# !pip install easyocr"
   ]
  },
  {
   "cell_type": "code",
   "execution_count": null,
   "id": "a9d5d4a4",
   "metadata": {},
   "outputs": [
    {
     "name": "stderr",
     "output_type": "stream",
     "text": [
      "/Users/pawarison/dev/DocuFlow/.venv/lib/python3.12/site-packages/torch/utils/data/dataloader.py:683: UserWarning: 'pin_memory' argument is set as true but not supported on MPS now, then device pinned memory won't be used.\n",
      "  warnings.warn(warn_msg)\n"
     ]
    },
    {
     "name": "stdout",
     "output_type": "stream",
     "text": [
      "Conversion successful: True\n",
      "Number of pages: 1\n"
     ]
    }
   ],
   "source": [
    "from docling.datamodel.base_models import InputFormat\n",
    "from docling.document_converter import DocumentConverter\n",
    "\n",
    "# Initialize the document converter\n",
    "doc_converter = DocumentConverter()\n",
    "\n",
    "# Initialize the pipeline for PDF processing\n",
    "doc_converter.initialize_pipeline(InputFormat.PDF)\n",
    "\n",
    "\n",
    "source = \"/Users/pawarison/dev/DocuFlow/data/synthetic_data/tax_invoices/tax_invoice_3.png\"  # document per local path or URL\n",
    "\n",
    "# Now convert the document\n",
    "result = doc_converter.convert(\n",
    "    source=source,  # Replace with your actual file path\n",
    "    max_num_pages=10  # Optional: limit number of pages to process\n",
    ")\n",
    "\n",
    "# The result will be a ConversionResult object\n",
    "print(f\"Conversion successful: {result.status == 'success'}\")\n",
    "print(f\"Number of pages: {len(result.pages)}\")"
   ]
  },
  {
   "cell_type": "code",
   "execution_count": 34,
   "id": "a49bcc13",
   "metadata": {},
   "outputs": [
    {
     "data": {
      "text/plain": [
       "'## Days\\n\\n125,725.00'"
      ]
     },
     "execution_count": 34,
     "metadata": {},
     "output_type": "execute_result"
    }
   ],
   "source": [
    "result.document.export_to_markdown()"
   ]
  },
  {
   "cell_type": "code",
   "execution_count": null,
   "id": "947dcdeb",
   "metadata": {},
   "outputs": [],
   "source": []
  },
  {
   "cell_type": "code",
   "execution_count": 38,
   "id": "4109e445",
   "metadata": {},
   "outputs": [
    {
     "ename": "TypeError",
     "evalue": "Reader.__init__() got an unexpected keyword argument 'detection'",
     "output_type": "error",
     "traceback": [
      "\u001b[31m---------------------------------------------------------------------------\u001b[39m",
      "\u001b[31mTypeError\u001b[39m                                 Traceback (most recent call last)",
      "\u001b[36mCell\u001b[39m\u001b[36m \u001b[39m\u001b[32mIn[38]\u001b[39m\u001b[32m, line 2\u001b[39m\n\u001b[32m      1\u001b[39m \u001b[38;5;28;01mimport\u001b[39;00m\u001b[38;5;250m \u001b[39m\u001b[34;01measyocr\u001b[39;00m\n\u001b[32m----> \u001b[39m\u001b[32m2\u001b[39m reader = \u001b[43measyocr\u001b[49m\u001b[43m.\u001b[49m\u001b[43mReader\u001b[49m\u001b[43m(\u001b[49m\u001b[43m[\u001b[49m\u001b[33;43m'\u001b[39;49m\u001b[33;43mth\u001b[39;49m\u001b[33;43m'\u001b[39;49m\u001b[43m,\u001b[49m\u001b[33;43m'\u001b[39;49m\u001b[33;43men\u001b[39;49m\u001b[33;43m'\u001b[39;49m\u001b[43m]\u001b[49m\u001b[43m,\u001b[49m\u001b[43m \u001b[49m\u001b[43mdetection\u001b[49m\u001b[43m=\u001b[49m\u001b[33;43m'\u001b[39;49m\u001b[33;43mDB\u001b[39;49m\u001b[33;43m'\u001b[39;49m\u001b[43m,\u001b[49m\u001b[43m \u001b[49m\u001b[43mrecognition\u001b[49m\u001b[43m \u001b[49m\u001b[43m=\u001b[49m\u001b[43m \u001b[49m\u001b[33;43m'\u001b[39;49m\u001b[33;43mTransformer\u001b[39;49m\u001b[33;43m'\u001b[39;49m\u001b[43m)\u001b[49m \u001b[38;5;66;03m# this needs to run only once to load the model into memory\u001b[39;00m\n\u001b[32m      3\u001b[39m result = reader.readtext(source, detail = \u001b[32m0\u001b[39m)\n",
      "\u001b[31mTypeError\u001b[39m: Reader.__init__() got an unexpected keyword argument 'detection'"
     ]
    }
   ],
   "source": [
    "import easyocr\n",
    "reader = easyocr.Reader(['th','en'], detection='DB', recognition = 'Transformer') # this needs to run only once to load the model into memory\n",
    "result = reader.readtext(source, detail = 0)"
   ]
  },
  {
   "cell_type": "code",
   "execution_count": 37,
   "id": "4af11094",
   "metadata": {},
   "outputs": [
    {
     "data": {
      "text/plain": [
       "[' บริษัท อินโนเวท เทค จำกัด',\n",
       " 'ใบกำกับภาษี/ใบแจงหนี้',\n",
       " '999/9 อาการัติ ออฟฟิศเศส แอหเซึนหรัลเวิลค์ ชั่น ao ล.พระราม',\n",
       " 'แขวงปหมวน เยคปหมวน กรังเทพฯ 10330',\n",
       " 'โหะ: 02-123-4537  เลยประจำตัว;เสียภาษี: ^436381974212',\n",
       " 'บริษัท โกลบอล โลจิสติกส์ โซลูขันส์',\n",
       " 'เลขท์:',\n",
       " '||-225-2380',\n",
       " 'ลุ้กคา;',\n",
       " 'sss/9 อากาะติ ออฟฟิศเศส แอห เอ็นหรั!เวิลิต',\n",
       " 'ตั้น 4d ถ.พระ',\n",
       " 'วันทีววงปหมวัน เiย nยวบา2รังเทพฯ 1o3oo',\n",
       " 'เรียน: เคุณสุนีย์',\n",
       " '[ห:: ^2-123-4567',\n",
       " 'เลยปะะจำตัว;เสียภาษี: 0357022339914',\n",
       " 'รายการ',\n",
       " 'ราคา/หนวย',\n",
       " 'จำนวนเงิืน',\n",
       " 'งานออกแบบกราฟิกสำหรับโซเซีเลมีเคีย {15 ชื้น)',\n",
       " '12,500.00',\n",
       " '12,533.33',\n",
       " 'พัฒนาและออกแบบเว็บไชต์ (e commerse)',\n",
       " '75,^?3.^0',\n",
       " '75,^?3.^3',\n",
       " 'บริการึีปรึกษาทานการะตลาคศิวิหัล{เทือน มิ...)',\n",
       " '30,^3ว.33',\n",
       " '3า,^3ว.33',\n",
       " 'เงือนใขการขำระเงิน: credit 15 days',\n",
       " 'เอครวม isubtotal)',\n",
       " '117,วบ0.q0',\n",
       " 'ยอมูลการ์โอนฟิน:',\n",
       " '.กลิกะไหยฺบัญรืออมหลั1 012-3-45678-9',\n",
       " 'ภาษีมูลคาเฟิม wat 7))',\n",
       " '8,225.^3',\n",
       " 'ยอดชำระทั่งสิ้น',\n",
       " '125,725.00',\n",
       " 'รู่รับฟิน',\n",
       " ';ูสงของ',\n",
       " 'ลำคับ',\n",
       " 'จำบวบ',\n",
       " ';ู่อนุมัติ']"
      ]
     },
     "execution_count": 37,
     "metadata": {},
     "output_type": "execute_result"
    }
   ],
   "source": [
    "result"
   ]
  }
 ],
 "metadata": {
  "kernelspec": {
   "display_name": ".venv",
   "language": "python",
   "name": "python3"
  },
  "language_info": {
   "codemirror_mode": {
    "name": "ipython",
    "version": 3
   },
   "file_extension": ".py",
   "mimetype": "text/x-python",
   "name": "python",
   "nbconvert_exporter": "python",
   "pygments_lexer": "ipython3",
   "version": "3.12.4"
  }
 },
 "nbformat": 4,
 "nbformat_minor": 5
}
