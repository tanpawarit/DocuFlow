{
 "cells": [
  {
   "cell_type": "code",
   "execution_count": 5,
   "id": "b462e779",
   "metadata": {},
   "outputs": [],
   "source": [
    "from mistralai import Mistral\n",
    "import base64\n",
    "import os\n",
    "from src.utils.config import get_config_value\n",
    "\n",
    "mistral_token = get_config_value(\"mistral\")\n",
    "api_key = mistral_token.get(\"token\") "
   ]
  },
  {
   "cell_type": "code",
   "execution_count": 19,
   "id": "d1cd3e41",
   "metadata": {},
   "outputs": [],
   "source": [
    "def encode_image(image_path):\n",
    "    \"\"\"Encode the image to base64.\"\"\"\n",
    "    try:\n",
    "        with open(image_path, \"rb\") as image_file:\n",
    "            return base64.b64encode(image_file.read()).decode('utf-8')\n",
    "    except FileNotFoundError:\n",
    "        print(f\"Error: The file {image_path} was not found.\")\n",
    "        return None\n",
    "    except Exception as e:  # Added general exception handling\n",
    "        print(f\"Error: {e}\")\n",
    "        return None\n",
    "\n",
    "# Path to your image\n",
    "image_path = \"/Users/pawarison/dev/DocuFlow/data/synthetic_data/tax_invoices/tax_invoice_1.png\"\n",
    "\n",
    "# Getting the base64 string\n",
    "base64_image = encode_image(image_path)\n",
    " \n",
    "client = Mistral(api_key=api_key)\n",
    "\n",
    "ocr_response = client.ocr.process(\n",
    "    model=\"mistral-ocr-latest\",\n",
    "    document={\n",
    "        \"type\": \"image_url\",\n",
    "        \"image_url\": f\"data:image/jpeg;base64,{base64_image}\" \n",
    "    },\n",
    "    include_image_base64=True\n",
    ")\n"
   ]
  },
  {
   "cell_type": "code",
   "execution_count": 14,
   "id": "3045e588",
   "metadata": {},
   "outputs": [
    {
     "data": {
      "text/plain": [
       "OCRResponse(pages=[OCRPageObject(index=0, markdown='# บริษัท โกลบอล โลจิสติกส์ โซลูชั่นส์\\n\\n## 2025-4837\\n\\n## 10330\\n\\n## 10101010101010101010101010101010101010101010101010101010101010101010101010101010101010101010101010101010101010101010101010101010101010101010101010101010101010101010101010101010101010101010101010101010', images=[], dimensions=OCRPageDimensions(dpi=200, height=842, width=595))], model='mistral-ocr-2505-completion', usage_info=OCRUsageInfo(pages_processed=1, doc_size_bytes=56175), document_annotation=None)"
      ]
     },
     "execution_count": 14,
     "metadata": {},
     "output_type": "execute_result"
    }
   ],
   "source": [
    "ocr_response "
   ]
  },
  {
   "cell_type": "code",
   "execution_count": 15,
   "id": "b5fb2759",
   "metadata": {},
   "outputs": [
    {
     "name": "stdout",
     "output_type": "stream",
     "text": [
      "Page 1:\n",
      "# บริษัท โกลบอล โลจิสติกส์ โซลูชั่นส์\n",
      "\n",
      "## 2025-4837\n",
      "\n",
      "## 10330\n",
      "\n",
      "## 10101010101010101010101010101010101010101010101010101010101010101010101010101010101010101010101010101010101010101010101010101010101010101010101010101010101010101010101010101010101010101010101010101010\n",
      "----------------------------------------\n"
     ]
    }
   ],
   "source": [
    "from typing import List\n",
    "\n",
    "class OCRPageObject:\n",
    "    def __init__(self, index: int, markdown: str) -> None:\n",
    "        self.index: int = index\n",
    "        self.markdown: str = markdown\n",
    "\n",
    "class OCRResponse:\n",
    "    def __init__(self, pages: List[OCRPageObject]) -> None:\n",
    "        self.pages: List[OCRPageObject] = pages\n",
    "\n",
    "def print_ocr_response(ocr_response: OCRResponse) -> None:\n",
    "    for page in ocr_response.pages:\n",
    "        print(f\"Page {page.index + 1}:\\n{page.markdown}\\n{'-'*40}\")\n",
    " \n",
    "print_ocr_response(ocr_response)"
   ]
  }
 ],
 "metadata": {
  "kernelspec": {
   "display_name": ".venv",
   "language": "python",
   "name": "python3"
  },
  "language_info": {
   "codemirror_mode": {
    "name": "ipython",
    "version": 3
   },
   "file_extension": ".py",
   "mimetype": "text/x-python",
   "name": "python",
   "nbconvert_exporter": "python",
   "pygments_lexer": "ipython3",
   "version": "3.12.4"
  }
 },
 "nbformat": 4,
 "nbformat_minor": 5
}
